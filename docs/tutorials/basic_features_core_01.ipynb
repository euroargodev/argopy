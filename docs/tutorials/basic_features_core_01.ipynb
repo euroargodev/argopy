{
 "cells": [
  {
   "cell_type": "markdown",
   "id": "4e5d62c4-5b02-4384-8764-c9dab7a9578a",
   "metadata": {
    "editable": true,
    "slideshow": {
     "slide_type": ""
    },
    "tags": []
   },
   "source": [
    "<img src=\"https://raw.githubusercontent.com/euroargodev/argopy/master/docs/_static/argopy_logo_long.png\" alt=\"argopy logo\" width=\"200\"/> \n",
    "\n",
    "# Download and visualise core-Argo data over an oceanic region\n",
    "\n",
    "This notebook shows how to:\n",
    "- download Argo core data (i.e. temperature/salinity) for a space/time domain \n",
    "- manipulate the data (interpolation on standard depth levels)\n",
    "- complement the dataset with the EOS10 variables\n",
    "- run per-profile diagnostics, such as the mixed layer depth\n",
    "- plot a map with floats trajectory\n",
    "- plot core data\n",
    "- plot complemented data"
   ]
  },
  {
   "cell_type": "markdown",
   "id": "c44dd99d-cb15-4269-9ff5-5afcf8b02a76",
   "metadata": {
    "editable": true,
    "slideshow": {
     "slide_type": ""
    },
    "tags": []
   },
   "source": [
    "## Import and set-up"
   ]
  },
  {
   "cell_type": "code",
   "execution_count": null,
   "id": "c45b682e-5a7a-4855-b51a-06c9ba14c5d0",
   "metadata": {
    "tags": []
   },
   "outputs": [],
   "source": [
    "from argopy import DataFetcher  # This is the class to load Argo data\n",
    "from argopy.plot import scatter_map, scatter_plot # Visualisation methods\n",
    "\n",
    "# Other usefull imports\n",
    "import numpy as np\n",
    "from matplotlib import pyplot as plt\n",
    "import xarray as xr\n",
    "xr.set_options(display_expand_attrs = False)"
   ]
  },
  {
   "cell_type": "markdown",
   "id": "4579812a-575f-4b46-abb9-39835de3c20d",
   "metadata": {},
   "source": [
    "## Define an ocean region to work with\n",
    "\n",
    "For this tutorial notebook, we'll work with Argo data from the core of the North Pacific Subtropical Gyre, south of the Kuroshio.\n",
    "\n",
    "For your own use, you can simply overwrite the ``BOX`` variable content with your region.\n",
    "\n",
    "Don't forget that if your selection is too large, data fetching may fail (although you could check with the ``parallel=True, progress=True`` arguments if it solve the problem)."
   ]
  },
  {
   "cell_type": "code",
   "execution_count": null,
   "id": "a6edcbd8-d693-4f91-bfda-6a9da8e10ed6",
   "metadata": {
    "tags": []
   },
   "outputs": [],
   "source": [
    "# Expected box format: [lon_min, lon_max, lat_min, lat_max, pres_min, pres_max, datim_min, datim_max]\n",
    "\n",
    "BOX = [146, 152, 30, 34, 0, 2000, '2022-01', '2025-01']"
   ]
  },
  {
   "cell_type": "markdown",
   "id": "4150d986-9f20-49fb-b39b-e442621172cd",
   "metadata": {},
   "source": [
    "## Load all data from this region\n",
    "\n",
    "Note that if the BOX has a lot of profiles, the request can take up to a few minutes.  "
   ]
  },
  {
   "cell_type": "code",
   "execution_count": null,
   "id": "1069085e-8216-4290-b22a-f297e45fe284",
   "metadata": {
    "tags": []
   },
   "outputs": [],
   "source": [
    "%%time\n",
    "f = DataFetcher()  # Instantiate a data fetcher (here using all default options)\n",
    "f = f.region(BOX)  # Define a data selection\n",
    "f = f.load()       # Load data\n",
    "f"
   ]
  },
  {
   "cell_type": "code",
   "execution_count": null,
   "id": "6a1cd436-2d85-4eee-8c3b-d016f1db3c44",
   "metadata": {
    "tags": []
   },
   "outputs": [],
   "source": [
    "# Check the data structure (following xarray dataset model, very similar to a netcdf in memory):\n",
    "ds = f.data\n",
    "ds"
   ]
  },
  {
   "cell_type": "markdown",
   "id": "0880e64d-1858-4c69-a208-283be9b2224d",
   "metadata": {},
   "source": [
    "**Exercise**:\n",
    "\n",
    "Look at the xarray dataset global attribute ``Processing_history`` to get a description of what argopy has done with the raw data:"
   ]
  },
  {
   "cell_type": "code",
   "execution_count": null,
   "id": "91ea98b7-ac11-468c-9a8d-60677f9e0f7a",
   "metadata": {},
   "outputs": [],
   "source": [
    "ds.attrs['"
   ]
  },
  {
   "cell_type": "markdown",
   "id": "97f35d75-828c-4496-83c4-663328b43cc6",
   "metadata": {
    "tags": []
   },
   "source": [
    "You can check the data size through the argo xarray accessor:"
   ]
  },
  {
   "cell_type": "code",
   "execution_count": null,
   "id": "efdc520c-5441-4f4e-9539-e6ea125fb96d",
   "metadata": {
    "tags": []
   },
   "outputs": [],
   "source": [
    "ds.argo"
   ]
  },
  {
   "cell_type": "markdown",
   "id": "21ff25db-5735-41d2-a98f-4c71137b7ca3",
   "metadata": {
    "tags": []
   },
   "source": [
    "and check the corresponding simplified index of profiles (as a pandas.dataframe):"
   ]
  },
  {
   "cell_type": "code",
   "execution_count": null,
   "id": "c0a93010-2e74-46dc-9351-679512c81af7",
   "metadata": {
    "tags": []
   },
   "outputs": [],
   "source": [
    "df = f.index\n",
    "df"
   ]
  },
  {
   "cell_type": "markdown",
   "id": "da23d6c5-ccec-485a-9b5c-9e490fffd2ad",
   "metadata": {},
   "source": [
    "## Data manipulation"
   ]
  },
  {
   "cell_type": "markdown",
   "id": "fba962b4-66bc-479c-916c-9a660c10bfc1",
   "metadata": {},
   "source": [
    "**Exercise**:\n",
    "\n",
    "Convert the collection of points into a collection of profiles \n",
    "with the `point2profile` method of the `argo` accessor"
   ]
  },
  {
   "cell_type": "code",
   "execution_count": null,
   "id": "57a995f3-a085-4ec7-8942-73a89af46535",
   "metadata": {},
   "outputs": [],
   "source": [
    "%%time\n",
    "dsp = ds.\n",
    "dsp"
   ]
  },
  {
   "cell_type": "markdown",
   "id": "a000e9d3-d919-4fab-ab95-0822a2b54904",
   "metadata": {},
   "source": [
    "**Exercise**:\n",
    "\n",
    "Interpolate measurements along standard pressure levels, so that all profiles have a similar number of vertical levels"
   ]
  },
  {
   "cell_type": "code",
   "execution_count": null,
   "id": "7086a4eb-136f-4fbb-8819-d1636657a027",
   "metadata": {},
   "outputs": [],
   "source": [
    "b = np.arange(0., 2000., 5.0)  # standard pressure levels, in db\n",
    "dsbp = dsp.argo.\n",
    "dsbp"
   ]
  },
  {
   "cell_type": "markdown",
   "id": "4287ab07-0d7b-410a-b107-9558abaa940b",
   "metadata": {},
   "source": [
    "## Data completion"
   ]
  },
  {
   "cell_type": "markdown",
   "id": "4c010618-f4e9-4c97-a3c3-2bd1aa851d65",
   "metadata": {},
   "source": [
    "#### Use argopy methods"
   ]
  },
  {
   "cell_type": "markdown",
   "id": "43ca4c80-0365-4120-a355-44a9ea8e6fa5",
   "metadata": {},
   "source": [
    "**Exercise**:\n",
    "\n",
    "Compute the N2 stratification for all profiles"
   ]
  },
  {
   "cell_type": "code",
   "execution_count": null,
   "id": "d9749746-65ce-47b3-8170-3ac10808cb64",
   "metadata": {},
   "outputs": [],
   "source": [
    "dsp.argo.teos10(\n",
    "dsp['N2']"
   ]
  },
  {
   "cell_type": "markdown",
   "id": "0d11a6e4-a7e2-4392-8638-08ee6b9d0963",
   "metadata": {},
   "source": [
    "#### Use your own diagnostic"
   ]
  },
  {
   "cell_type": "markdown",
   "id": "d51e087c-3cc0-45b3-a260-616c845a1f75",
   "metadata": {},
   "source": [
    "**Exercise**:\n",
    "\n",
    "Compute the mixed layer depth for each profiles\n",
    "\n",
    "We can use the Boyer Montégut method based on the threshold of σ(10m) + 0.03 kg.m-3"
   ]
  },
  {
   "cell_type": "code",
   "execution_count": null,
   "id": "4389165d-c74d-400b-85b1-5d71a7d5a28f",
   "metadata": {},
   "outputs": [],
   "source": [
    "# This is the function to compute the mixed layder depth from a single profile:\n",
    "def diag_mld(pres, dens0, dens0_ref_depth=10., theshold=0.03):\n",
    "    idx = ~np.logical_or(np.isnan(pres), np.isnan(dens0))\n",
    "    pres = pres[idx]\n",
    "    dens0 = dens0[idx]\n",
    "    if not any(pres < dens0_ref_depth) or all(pres < dens0_ref_depth):\n",
    "        return np.nan\n",
    "    else:\n",
    "        index_ref_depth = np.argmin(np.abs(pres - dens0_ref_depth))\n",
    "        density_at_ref_depth = dens0[index_ref_depth]\n",
    "        index = np.min(\n",
    "            np.where(dens0[index_ref_depth:] > density_at_ref_depth + theshold) + index_ref_depth\n",
    "        )\n",
    "        MLD = pres[index]\n",
    "        return MLD"
   ]
  },
  {
   "cell_type": "markdown",
   "id": "b2238d87-5888-4ebd-a777-55a019872394",
   "metadata": {},
   "source": [
    "**Exercise**:\n",
    "  \n",
    "Before applying the diagnostic, we need to compute potential density:"
   ]
  },
  {
   "cell_type": "code",
   "execution_count": null,
   "id": "044182e7-1558-4acd-8c6b-fd35418897db",
   "metadata": {},
   "outputs": [],
   "source": [
    "ds.argo.teos10("
   ]
  },
  {
   "cell_type": "markdown",
   "id": "1380d715-3962-4621-93cb-44c3ed8a321c",
   "metadata": {},
   "source": [
    "**Exercice**:\n",
    "\n",
    "Apply the reducing function on all profiles of the dataset"
   ]
  },
  {
   "cell_type": "code",
   "execution_count": null,
   "id": "4e7da0a3-a523-426a-bfa3-ec15c4656d11",
   "metadata": {},
   "outputs": [],
   "source": [
    "# Don't forget to transform the collection of points into a collection of profiles:\n",
    "dsp = ds.argo.point2profile()"
   ]
  },
  {
   "cell_type": "code",
   "execution_count": null,
   "id": "2ed95d07-5b6f-49c1-9054-d88c4ec397e1",
   "metadata": {},
   "outputs": [],
   "source": [
    "dsp['MLD'] = dsp.argo.reduce_profile("
   ]
  },
  {
   "cell_type": "markdown",
   "id": "3b45774a-0eb4-468b-a78c-364cfb13f0ed",
   "metadata": {},
   "source": [
    "## Data visualisation"
   ]
  },
  {
   "cell_type": "markdown",
   "id": "31ca9e9a-fca6-495b-858a-f94cd3367132",
   "metadata": {},
   "source": [
    "### Make a map with all floats trajectory"
   ]
  },
  {
   "cell_type": "code",
   "execution_count": null,
   "id": "b9db8c89-f70a-4ee3-8745-6c3f059c6878",
   "metadata": {
    "tags": []
   },
   "outputs": [],
   "source": [
    "# We can directly use the index retrieved with the DataFetcher:\n",
    "scatter_map(f.index, set_global=False, legend=False);"
   ]
  },
  {
   "cell_type": "code",
   "execution_count": null,
   "id": "20eebf51-0c5e-4e0f-89df-d6c2c62e5892",
   "metadata": {
    "tags": []
   },
   "outputs": [],
   "source": [
    "# Customize the map:\n",
    "fig, ax = scatter_map(f.index,\n",
    "                      markersize=24,\n",
    "                      markeredgecolor='w',\n",
    "                      traj_color='gray',\n",
    "                      legend=False)"
   ]
  },
  {
   "cell_type": "markdown",
   "id": "4c517dea-0425-4e52-8298-9912b96dfd24",
   "metadata": {},
   "source": [
    "### Plot time series\n",
    "\n",
    "We will be using the argopy scatter_plot method that has the following signature:\n",
    "\n",
    "```\n",
    "scatter_plot(\n",
    "    ds: xarray.core.dataset.Dataset,\n",
    "    this_param,\n",
    "    this_x='TIME',\n",
    "    this_y='PRES',\n",
    "    figsize=(18, 6),\n",
    "    cmap=None,\n",
    "    vmin=None,\n",
    "    vmax=None,\n",
    "    s=4,\n",
    ")\n",
    "```"
   ]
  },
  {
   "cell_type": "code",
   "execution_count": null,
   "id": "b293f254-2eb2-4346-8cd9-778625e0a928",
   "metadata": {
    "tags": []
   },
   "outputs": [],
   "source": [
    "fig, ax, m = scatter_plot(ds, 'TEMP', vmin=2, vmax=20)\n",
    "ax.set_title(\"%s ('%s' mission)\" % ('TEMP', f.mission), fontdict={'weight': 'bold', 'size': 14});"
   ]
  },
  {
   "cell_type": "code",
   "execution_count": null,
   "id": "af51c73c-caac-4f9b-b973-3ac984b7ec8b",
   "metadata": {
    "tags": []
   },
   "outputs": [],
   "source": [
    "fig, ax, m = scatter_plot(ds, 'PSAL', vmin=34.5, vmax=35)\n",
    "ax.set_title(\"%s ('%s' mission)\" % ('PSAL', f.mission), fontdict={'weight': 'bold', 'size': 14});"
   ]
  },
  {
   "cell_type": "markdown",
   "id": "8ee23899-51c0-4267-b434-d8b8b80812aa",
   "metadata": {},
   "source": [
    "**Exercise**:\n",
    "\n",
    "Use the ``scatter_plot`` method and highlight the [17-19] degC layer from the interpolated data on standard pressure levels.\n",
    "\n",
    "Superimpose the mixed layer depth with a simple ``plt.plot()``"
   ]
  },
  {
   "cell_type": "code",
   "execution_count": null,
   "id": "2cdd30d3-afbe-4c26-971a-096a845e851a",
   "metadata": {},
   "outputs": [],
   "source": [
    "fig, ax, m = scatter_plot(dsbp, 'TEMP', this_y=\n",
    "ax.plot(\n",
    "ax.set_ylim(500, 0)"
   ]
  },
  {
   "cell_type": "markdown",
   "id": "babb29e8-ea52-4b38-94ff-9ad94fbab427",
   "metadata": {
    "tags": []
   },
   "source": [
    "### Plot some variable against another"
   ]
  },
  {
   "cell_type": "code",
   "execution_count": null,
   "id": "dfb662c9-b592-4ad3-9377-7ff6fe7e80ae",
   "metadata": {
    "tags": []
   },
   "outputs": [],
   "source": [
    "scatter_plot(ds, 'N2', this_x = 'PSAL', this_y = 'TEMP', vmin=0, vmax=3e-5, figsize=(5,5), cbar=True)"
   ]
  },
  {
   "cell_type": "markdown",
   "id": "ac8b2043-cff9-4ec0-acca-2690d3d00e51",
   "metadata": {},
   "source": [
    "# Load data using alternative user modes"
   ]
  },
  {
   "cell_type": "code",
   "execution_count": null,
   "id": "a930d594-cd33-439a-8369-f27159ed840c",
   "metadata": {},
   "outputs": [],
   "source": [
    "%%time\n",
    "f_research = DataFetcher(mode='research')\n",
    "f_research = f_research.region(BOX).load()\n",
    "f_research"
   ]
  },
  {
   "cell_type": "code",
   "execution_count": null,
   "id": "80e5fa93-200f-4843-ac12-c08a93cf4d3d",
   "metadata": {},
   "outputs": [],
   "source": [
    "f_research.data.attrs['Processing_history'].split(\";\")"
   ]
  },
  {
   "cell_type": "code",
   "execution_count": null,
   "id": "699a1925-9699-4427-8758-93b42ba9e1f8",
   "metadata": {},
   "outputs": [],
   "source": [
    "# to be compared with the less severe processing using the \"standard\" user mode:\n",
    "f.data.attrs['Processing_history'].split(\";\")"
   ]
  },
  {
   "cell_type": "code",
   "execution_count": null,
   "id": "bdcfc622-7221-482a-a9e4-d1aed1aa0fe8",
   "metadata": {},
   "outputs": [],
   "source": []
  }
 ],
 "metadata": {
  "kernelspec": {
   "display_name": "argopy-py310-all-pinned",
   "language": "python",
   "name": "argopy-py310-all-pinned"
  },
  "language_info": {
   "codemirror_mode": {
    "name": "ipython",
    "version": 3
   },
   "file_extension": ".py",
   "mimetype": "text/x-python",
   "name": "python",
   "nbconvert_exporter": "python",
   "pygments_lexer": "ipython3",
   "version": "3.10.16"
  },
  "toc": {
   "base_numbering": -1
  },
  "widgets": {
   "application/vnd.jupyter.widget-state+json": {
    "state": {},
    "version_major": 2,
    "version_minor": 0
   }
  }
 },
 "nbformat": 4,
 "nbformat_minor": 5
}
